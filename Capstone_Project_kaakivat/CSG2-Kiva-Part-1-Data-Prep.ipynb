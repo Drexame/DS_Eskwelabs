{
 "cells": [
  {
   "cell_type": "markdown",
   "id": "010cb7ee",
   "metadata": {},
   "source": [
    "# Import Libraries and Read CSV"
   ]
  },
  {
   "cell_type": "code",
   "execution_count": 1,
   "id": "4a7f9e4b",
   "metadata": {
    "ExecuteTime": {
     "end_time": "2023-12-03T12:38:11.738732Z",
     "start_time": "2023-12-03T12:37:18.043471Z"
    }
   },
   "outputs": [],
   "source": [
    "# General\n",
    "import numpy as np\n",
    "import pandas as pd\n",
    "import random\n",
    "\n",
    "# Visualization\n",
    "import matplotlib.pyplot as plt\n",
    "import seaborn as sns\n",
    "\n",
    "# Hypothesis Testing\n",
    "import scipy.stats as stats"
   ]
  },
  {
   "cell_type": "code",
   "execution_count": 2,
   "id": "8ce6a1b6",
   "metadata": {
    "ExecuteTime": {
     "end_time": "2023-12-03T12:39:07.024721Z",
     "start_time": "2023-12-03T12:38:18.208930Z"
    }
   },
   "outputs": [],
   "source": [
    "# Read all_loans.csv\n",
    "df_all_loans = pd.read_csv('Dataset/all_loans.csv')"
   ]
  },
  {
   "cell_type": "markdown",
   "id": "526cbad4",
   "metadata": {},
   "source": [
    "---"
   ]
  },
  {
   "cell_type": "markdown",
   "id": "63938863",
   "metadata": {},
   "source": [
    "# Inspection"
   ]
  },
  {
   "cell_type": "code",
   "execution_count": 3,
   "id": "c688f4ee",
   "metadata": {
    "ExecuteTime": {
     "end_time": "2023-12-03T12:43:30.681907Z",
     "start_time": "2023-12-03T12:43:29.432166Z"
    }
   },
   "outputs": [
    {
     "name": "stdout",
     "output_type": "stream",
     "text": [
      "<class 'pandas.core.frame.DataFrame'>\n",
      "RangeIndex: 2187819 entries, 0 to 2187818\n",
      "Data columns (total 31 columns):\n",
      " #   Column                           Dtype  \n",
      "---  ------                           -----  \n",
      " 0   LOAN_ID                          int64  \n",
      " 1   LOAN_NAME                        object \n",
      " 2   FUNDED_AMOUNT                    float64\n",
      " 3   LOAN_AMOUNT                      float64\n",
      " 4   STATUS                           object \n",
      " 5   IMAGE_ID                         float64\n",
      " 6   VIDEO_ID                         float64\n",
      " 7   ACTIVITY_NAME                    object \n",
      " 8   SECTOR_NAME                      object \n",
      " 9   LOAN_USE                         object \n",
      " 10  COUNTRY_CODE                     object \n",
      " 11  COUNTRY_NAME                     object \n",
      " 12  TOWN_NAME                        object \n",
      " 13  CURRENCY_POLICY                  object \n",
      " 14  CURRENCY_EXCHANGE_COVERAGE_RATE  float64\n",
      " 15  CURRENCY                         object \n",
      " 16  PARTNER_ID                       int64  \n",
      " 17  POSTED_TIME                      object \n",
      " 18  PLANNED_EXPIRATION_TIME          object \n",
      " 19  DISBURSE_TIME                    object \n",
      " 20  RAISED_TIME                      object \n",
      " 21  LENDER_TERM                      float64\n",
      " 22  NUM_LENDERS_TOTAL                int64  \n",
      " 23  NUM_JOURNAL_ENTRIES              int64  \n",
      " 24  NUM_BULK_ENTRIES                 int64  \n",
      " 25  TAGS                             object \n",
      " 26  BORROWER_NAMES                   object \n",
      " 27  BORROWER_GENDERS                 object \n",
      " 28  BORROWER_PICTURED                object \n",
      " 29  REPAYMENT_INTERVAL               object \n",
      " 30  DISTRIBUTION_MODEL               object \n",
      "dtypes: float64(6), int64(5), object(20)\n",
      "memory usage: 517.4+ MB\n"
     ]
    }
   ],
   "source": [
    "# 1. Copy df_all_loans to df and get info\n",
    "df = df_all_loans.copy(deep=True)\n",
    "df.info()"
   ]
  },
  {
   "cell_type": "code",
   "execution_count": 4,
   "id": "50aec2ad",
   "metadata": {
    "ExecuteTime": {
     "end_time": "2023-12-03T12:43:43.365636Z",
     "start_time": "2023-12-03T12:43:39.420979Z"
    }
   },
   "outputs": [
    {
     "data": {
      "text/plain": [
       "LOAN_ID                                  0\n",
       "LOAN_NAME                            50390\n",
       "FUNDED_AMOUNT                            0\n",
       "LOAN_AMOUNT                              0\n",
       "STATUS                                   0\n",
       "IMAGE_ID                             46041\n",
       "VIDEO_ID                           2186598\n",
       "ACTIVITY_NAME                            0\n",
       "SECTOR_NAME                              0\n",
       "LOAN_USE                             46064\n",
       "COUNTRY_CODE                            36\n",
       "COUNTRY_NAME                             0\n",
       "TOWN_NAME                           179120\n",
       "CURRENCY_POLICY                          0\n",
       "CURRENCY_EXCHANGE_COVERAGE_RATE     527834\n",
       "CURRENCY                                 0\n",
       "PARTNER_ID                               0\n",
       "POSTED_TIME                              0\n",
       "PLANNED_EXPIRATION_TIME             371834\n",
       "DISBURSE_TIME                         4291\n",
       "RAISED_TIME                         101397\n",
       "LENDER_TERM                             24\n",
       "NUM_LENDERS_TOTAL                        0\n",
       "NUM_JOURNAL_ENTRIES                      0\n",
       "NUM_BULK_ENTRIES                         0\n",
       "TAGS                                975819\n",
       "BORROWER_NAMES                       50390\n",
       "BORROWER_GENDERS                     46041\n",
       "BORROWER_PICTURED                    46041\n",
       "REPAYMENT_INTERVAL                       0\n",
       "DISTRIBUTION_MODEL                       0\n",
       "dtype: int64"
      ]
     },
     "execution_count": 4,
     "metadata": {},
     "output_type": "execute_result"
    }
   ],
   "source": [
    "# 2. Check if there are nulls in each column\n",
    "df.isna().sum()"
   ]
  },
  {
   "cell_type": "code",
   "execution_count": 5,
   "id": "9cc953e5",
   "metadata": {
    "ExecuteTime": {
     "end_time": "2023-12-03T12:43:45.749867Z",
     "start_time": "2023-12-03T12:43:45.479562Z"
    }
   },
   "outputs": [
    {
     "data": {
      "text/plain": [
       "STATUS\n",
       "funded         2079878\n",
       "expired          93733\n",
       "refunded          9330\n",
       "fundRaising       4878\n",
       "Name: count, dtype: int64"
      ]
     },
     "execution_count": 5,
     "metadata": {},
     "output_type": "execute_result"
    }
   ],
   "source": [
    "# 3. Check the distribution of each STATUS\n",
    "df.STATUS.value_counts()"
   ]
  },
  {
   "cell_type": "code",
   "execution_count": 6,
   "id": "39bb48fe",
   "metadata": {
    "ExecuteTime": {
     "end_time": "2023-12-03T12:43:48.740138Z",
     "start_time": "2023-12-03T12:43:48.298095Z"
    }
   },
   "outputs": [
    {
     "data": {
      "text/plain": [
       "163"
      ]
     },
     "execution_count": 6,
     "metadata": {},
     "output_type": "execute_result"
    }
   ],
   "source": [
    "# 4. Get the number of unique ACTIVITY_NAME\n",
    "df.ACTIVITY_NAME.nunique()"
   ]
  },
  {
   "cell_type": "code",
   "execution_count": 7,
   "id": "2d843fb7",
   "metadata": {
    "ExecuteTime": {
     "end_time": "2023-12-03T12:43:51.335325Z",
     "start_time": "2023-12-03T12:43:51.009153Z"
    }
   },
   "outputs": [
    {
     "data": {
      "text/plain": [
       "SECTOR_NAME\n",
       "Agriculture       573618\n",
       "Food              480270\n",
       "Retail            419756\n",
       "Services          145391\n",
       "Clothing          116402\n",
       "Housing           112566\n",
       "Personal Use       83960\n",
       "Education          78506\n",
       "Transportation     50268\n",
       "Arts               43597\n",
       "Health             31561\n",
       "Construction       25498\n",
       "Manufacturing      21134\n",
       "Entertainment       2663\n",
       "Wholesale           2629\n",
       "Name: count, dtype: int64"
      ]
     },
     "execution_count": 7,
     "metadata": {},
     "output_type": "execute_result"
    }
   ],
   "source": [
    "# 5. Check the distribution of each SECTOR_NAME\n",
    "df.SECTOR_NAME.value_counts()"
   ]
  },
  {
   "cell_type": "code",
   "execution_count": 8,
   "id": "ac780b32",
   "metadata": {
    "ExecuteTime": {
     "end_time": "2023-12-03T12:43:53.728395Z",
     "start_time": "2023-12-03T12:43:53.443570Z"
    }
   },
   "outputs": [
    {
     "data": {
      "text/plain": [
       "CURRENCY_EXCHANGE_COVERAGE_RATE\n",
       "0.1    1360551\n",
       "0.2     179709\n",
       "0.0     119725\n",
       "Name: count, dtype: int64"
      ]
     },
     "execution_count": 8,
     "metadata": {},
     "output_type": "execute_result"
    }
   ],
   "source": [
    "# 6. Check the distribution of each CURRENCY_EXCHANGE_COVERAGE_RATE\n",
    "df.CURRENCY_EXCHANGE_COVERAGE_RATE.value_counts()"
   ]
  },
  {
   "cell_type": "code",
   "execution_count": 9,
   "id": "19eb8117",
   "metadata": {
    "ExecuteTime": {
     "end_time": "2023-12-03T12:43:55.879809Z",
     "start_time": "2023-12-03T12:43:55.392011Z"
    }
   },
   "outputs": [
    {
     "data": {
      "text/plain": [
       "232249"
      ]
     },
     "execution_count": 9,
     "metadata": {},
     "output_type": "execute_result"
    }
   ],
   "source": [
    "# 7. Get the number of unique TAGS\n",
    "df.TAGS.nunique()"
   ]
  },
  {
   "cell_type": "code",
   "execution_count": 10,
   "id": "6b02401d",
   "metadata": {
    "ExecuteTime": {
     "end_time": "2023-12-03T12:44:10.246684Z",
     "start_time": "2023-12-03T12:43:57.652124Z"
    }
   },
   "outputs": [
    {
     "data": {
      "text/plain": [
       "487"
      ]
     },
     "execution_count": 10,
     "metadata": {},
     "output_type": "execute_result"
    }
   ],
   "source": [
    "# 8. Check the number of rows where LOAN_NAME contains 'group' but BORROWER_NAMES contains a single name\n",
    "df['BORROWER_NAMES'] = df['BORROWER_NAMES'].str.lower()\n",
    "df['NUM_NAMES'] = df['BORROWER_NAMES'].apply(lambda x: len(str(x).split(', ')) if pd.notna(x) else 0)\n",
    "filtered_df = df[df['LOAN_NAME'].str.lower().str.contains('group', na=False)]\n",
    "filtered_df_single_name = filtered_df[filtered_df['NUM_NAMES'] == 1]\n",
    "filtered_df_single_name.shape[0]"
   ]
  },
  {
   "cell_type": "code",
   "execution_count": 11,
   "id": "80425346",
   "metadata": {
    "ExecuteTime": {
     "end_time": "2023-12-03T12:44:19.411275Z",
     "start_time": "2023-12-03T12:44:13.167293Z"
    }
   },
   "outputs": [
    {
     "data": {
      "text/plain": [
       "46"
      ]
     },
     "execution_count": 11,
     "metadata": {},
     "output_type": "execute_result"
    }
   ],
   "source": [
    "# 9. Check the number of rows where LOAN_NAME does not contain 'group' but BORROWER_NAMES contains multiple names\n",
    "df_no_group = df[~df['LOAN_NAME'].str.lower().str.contains('group', na=False)]\n",
    "df_multiple_names = df_no_group[df_no_group['BORROWER_NAMES'].str.lower().str.contains(', ', na=False)]\n",
    "df_multiple_names.shape[0]"
   ]
  },
  {
   "cell_type": "code",
   "execution_count": 12,
   "id": "4bf85a4c",
   "metadata": {
    "ExecuteTime": {
     "end_time": "2023-12-03T12:44:35.248837Z",
     "start_time": "2023-12-03T12:44:21.229766Z"
    }
   },
   "outputs": [
    {
     "name": "stderr",
     "output_type": "stream",
     "text": [
      "D:\\jdmamangun\\anaconda3\\lib\\site-packages\\seaborn\\_oldcore.py:1498: FutureWarning: is_categorical_dtype is deprecated and will be removed in a future version. Use isinstance(dtype, CategoricalDtype) instead\n",
      "  if pd.api.types.is_categorical_dtype(vector):\n",
      "D:\\jdmamangun\\anaconda3\\lib\\site-packages\\seaborn\\categorical.py:641: FutureWarning: The default of observed=False is deprecated and will be changed to True in a future version of pandas. Pass observed=False to retain current behavior or observed=True to adopt the future default and silence this warning.\n",
      "  grouped_vals = vals.groupby(grouper)\n"
     ]
    },
    {
     "data": {
      "text/plain": [
       "<Axes: xlabel='LENDER_TERM_BIN', ylabel='count'>"
      ]
     },
     "execution_count": 12,
     "metadata": {},
     "output_type": "execute_result"
    },
    {
     "data": {
      "image/png": "[encoded data removed]",
      "text/plain": [
       "<Figure size 640x480 with 1 Axes>"
      ]
     },
     "metadata": {},
     "output_type": "display_data"
    }
   ],
   "source": [
    "# 10. Check the distribution of LENDER_TERM after binning, consider four bins for now\n",
    "bin_edges = [0, 4, 10, 15, np.inf]\n",
    "bin_labels = ['0-4', '5-10', '11-15', '16 and above']\n",
    "\n",
    "df['LENDER_TERM'].replace([np.inf, -np.inf], np.nan, inplace=True)\n",
    "df['LENDER_TERM'].fillna(df['LENDER_TERM'].median(), inplace=True)  # Replace NaN with the median or any other suitable strategy\n",
    "\n",
    "df['LENDER_TERM_BIN'] = pd.cut(df['LENDER_TERM'], bins=bin_edges, labels=bin_labels, right=True)\n",
    "sns.countplot(data=df, x='LENDER_TERM_BIN', palette='viridis')"
   ]
  },
  {
   "cell_type": "code",
   "execution_count": 13,
   "id": "41e09344",
   "metadata": {
    "ExecuteTime": {
     "end_time": "2023-12-03T12:44:47.943861Z",
     "start_time": "2023-12-03T12:44:46.804680Z"
    }
   },
   "outputs": [
    {
     "name": "stderr",
     "output_type": "stream",
     "text": [
      "C:\\Users\\jdmamangun\\AppData\\Local\\Temp\\ipykernel_9192\\4021508210.py:3: SettingWithCopyWarning: \n",
      "A value is trying to be set on a copy of a slice from a DataFrame.\n",
      "Try using .loc[row_indexer,col_indexer] = value instead\n",
      "\n",
      "See the caveats in the documentation: https://pandas.pydata.org/pandas-docs/stable/user_guide/indexing.html#returning-a-view-versus-a-copy\n",
      "  df_ph['STATUS_RECODE'] = df_ph['STATUS'].apply(lambda x: 'funded' if x == 'funded' else 'not funded')\n"
     ]
    },
    {
     "data": {
      "text/plain": [
       "STATUS_RECODE\n",
       "funded        472448\n",
       "not funded      5467\n",
       "Name: count, dtype: int64"
      ]
     },
     "execution_count": 13,
     "metadata": {},
     "output_type": "execute_result"
    }
   ],
   "source": [
    "# 11. Check Philippines STATUS\n",
    "df_ph = df[df['COUNTRY_NAME'] == 'Philippines']\n",
    "df_ph['STATUS_RECODE'] = df_ph['STATUS'].apply(lambda x: 'funded' if x == 'funded' else 'not funded')\n",
    "df_ph['STATUS_RECODE'].value_counts()"
   ]
  },
  {
   "cell_type": "code",
   "execution_count": 14,
   "id": "dcaa714a",
   "metadata": {
    "ExecuteTime": {
     "end_time": "2023-12-03T12:44:52.278022Z",
     "start_time": "2023-12-03T12:44:51.279112Z"
    }
   },
   "outputs": [
    {
     "name": "stderr",
     "output_type": "stream",
     "text": [
      "C:\\Users\\jdmamangun\\AppData\\Local\\Temp\\ipykernel_9192\\747987382.py:8: SettingWithCopyWarning: \n",
      "A value is trying to be set on a copy of a slice from a DataFrame.\n",
      "Try using .loc[row_indexer,col_indexer] = value instead\n",
      "\n",
      "See the caveats in the documentation: https://pandas.pydata.org/pandas-docs/stable/user_guide/indexing.html#returning-a-view-versus-a-copy\n",
      "  df_ph['IMAGE_ID'] = df_ph['IMAGE_ID'].apply(binarize_image_id)\n"
     ]
    },
    {
     "name": "stdout",
     "output_type": "stream",
     "text": [
      "Chi-Square Test: Power_divergenceResult(statistic=array([  1609.59392789, 454908.81705855]), pvalue=array([0., 0.]))\n",
      "\n",
      "Fisher-Exact Test: (0.06383200906452363, 0.0)\n",
      "\n"
     ]
    }
   ],
   "source": [
    "# 12. Philippines Hypothesis Test: STATUS_RECODE vs. IMAGE_ID\n",
    "def binarize_image_id(x):\n",
    "    if x > 0:\n",
    "        return 1\n",
    "    else:\n",
    "        return 0\n",
    "\n",
    "df_ph['IMAGE_ID'] = df_ph['IMAGE_ID'].apply(binarize_image_id)\n",
    "ct = pd.crosstab(df_ph['STATUS_RECODE'], df_ph['IMAGE_ID'])\n",
    "\n",
    "print(f'Chi-Square Test: {stats.chisquare(ct)}\\n')\n",
    "print(f'Fisher-Exact Test: {stats.fisher_exact(ct)}\\n')"
   ]
  },
  {
   "cell_type": "code",
   "execution_count": 15,
   "id": "91364a22",
   "metadata": {
    "ExecuteTime": {
     "end_time": "2023-12-03T12:44:54.585297Z",
     "start_time": "2023-12-03T12:44:53.897139Z"
    }
   },
   "outputs": [
    {
     "name": "stderr",
     "output_type": "stream",
     "text": [
      "C:\\Users\\jdmamangun\\AppData\\Local\\Temp\\ipykernel_9192\\1275683248.py:8: SettingWithCopyWarning: \n",
      "A value is trying to be set on a copy of a slice from a DataFrame.\n",
      "Try using .loc[row_indexer,col_indexer] = value instead\n",
      "\n",
      "See the caveats in the documentation: https://pandas.pydata.org/pandas-docs/stable/user_guide/indexing.html#returning-a-view-versus-a-copy\n",
      "  df_ph['VIDEO_ID'] = df_ph['VIDEO_ID'].apply(binarize_video_id)\n"
     ]
    },
    {
     "name": "stdout",
     "output_type": "stream",
     "text": [
      "Chi-Square Test: Power_divergenceResult(statistic=array([4.56246181e+05, 5.10000000e+01]), pvalue=array([0.00000000e+00, 9.23659662e-13]))\n",
      "\n",
      "Fisher-Exact Test: (0.0, 1.0)\n",
      "\n"
     ]
    }
   ],
   "source": [
    "# 13. Philippines Hypothesis Test: STATUS_RECODE vs. VIDEO_ID\n",
    "def binarize_video_id(x):\n",
    "    if x > 0:\n",
    "        return 1\n",
    "    else:\n",
    "        return 0\n",
    "\n",
    "df_ph['VIDEO_ID'] = df_ph['VIDEO_ID'].apply(binarize_video_id)\n",
    "ct = pd.crosstab(df_ph['STATUS_RECODE'], df_ph['VIDEO_ID'])\n",
    "\n",
    "print(f'Chi-Square Test: {stats.chisquare(ct)}\\n')\n",
    "print(f'Fisher-Exact Test: {stats.fisher_exact(ct)}\\n')"
   ]
  },
  {
   "cell_type": "code",
   "execution_count": 16,
   "id": "b8a82704",
   "metadata": {
    "ExecuteTime": {
     "end_time": "2023-12-03T12:44:57.312951Z",
     "start_time": "2023-12-03T12:44:57.092908Z"
    }
   },
   "outputs": [
    {
     "name": "stdout",
     "output_type": "stream",
     "text": [
      "Chi-Square Test: Power_divergenceResult(statistic=array([105748.69848443,   4595.00086975,   8456.34373587,   2003.1957905 ,\n",
      "         2233.29584245,    384.        , 113666.36296645,   1208.08143322,\n",
      "        38674.99076498,   4030.06302314,   8432.42095416, 142695.98616497,\n",
      "        12074.77087881,  11934.59492655,    192.        ]), pvalue=array([0.00000000e+000, 0.00000000e+000, 0.00000000e+000, 0.00000000e+000,\n",
      "       0.00000000e+000, 1.67536801e-085, 0.00000000e+000, 1.06901337e-264,\n",
      "       0.00000000e+000, 0.00000000e+000, 0.00000000e+000, 0.00000000e+000,\n",
      "       0.00000000e+000, 0.00000000e+000, 1.16355243e-043]))\n",
      "\n"
     ]
    }
   ],
   "source": [
    "# 14. Philippines Hypothesis Test: STATUS_RECODE vs. SECTOR_NAME\n",
    "ct = pd.crosstab(df_ph['STATUS_RECODE'], df_ph['SECTOR_NAME'])\n",
    "\n",
    "print(f'Chi-Square Test: {stats.chisquare(ct)}\\n')"
   ]
  },
  {
   "cell_type": "code",
   "execution_count": 17,
   "id": "456d1150",
   "metadata": {
    "ExecuteTime": {
     "end_time": "2023-12-03T12:44:59.177096Z",
     "start_time": "2023-12-03T12:44:58.953680Z"
    }
   },
   "outputs": [
    {
     "name": "stdout",
     "output_type": "stream",
     "text": [
      "Chi-Square Test: Power_divergenceResult(statistic=array([ 14882.81447503,   2445.59627774, 438973.80614681]), pvalue=array([0., 0., 0.]))\n",
      "\n"
     ]
    }
   ],
   "source": [
    "# 15. Philippines Hypothesis Test: STATUS_RECODE vs. REPAYMENT_INTERVAL\n",
    "ct = pd.crosstab(df_ph['STATUS_RECODE'], df_ph['REPAYMENT_INTERVAL'])\n",
    "\n",
    "print(f'Chi-Square Test: {stats.chisquare(ct)}\\n')"
   ]
  },
  {
   "cell_type": "code",
   "execution_count": 18,
   "id": "1f9f178c",
   "metadata": {
    "ExecuteTime": {
     "end_time": "2023-12-03T12:45:01.662792Z",
     "start_time": "2023-12-03T12:45:00.741290Z"
    }
   },
   "outputs": [
    {
     "name": "stdout",
     "output_type": "stream",
     "text": [
      "Chi-Square Test: Power_divergenceResult(statistic=array([ 22959.95911902, 432014.49813603]), pvalue=array([0., 0.]))\n",
      "\n",
      "Fisher-Exact Test: (0.25610228230896465, 1.2192001462817262e-223)\n",
      "\n"
     ]
    },
    {
     "name": "stderr",
     "output_type": "stream",
     "text": [
      "C:\\Users\\jdmamangun\\AppData\\Local\\Temp\\ipykernel_9192\\3694620198.py:14: SettingWithCopyWarning: \n",
      "A value is trying to be set on a copy of a slice from a DataFrame.\n",
      "Try using .loc[row_indexer,col_indexer] = value instead\n",
      "\n",
      "See the caveats in the documentation: https://pandas.pydata.org/pandas-docs/stable/user_guide/indexing.html#returning-a-view-versus-a-copy\n",
      "  df_ph['BORROWER_GENDERS_PCT_F'] = df_ph['BORROWER_GENDERS'].astype(str).apply(percent_female)\n"
     ]
    }
   ],
   "source": [
    "# 16. Philippines Hypothesis Test: STATUS_RECODE vs. BORROWER_GENDERS\n",
    "def percent_female(x):\n",
    "    if x == 'nan':\n",
    "        return np.nan\n",
    "    else:\n",
    "        gender_list = x.split(',')\n",
    "        count_f = gender_list.count('female')\n",
    "        count_m = gender_list.count('male')\n",
    "        if count_f + count_m < 1:\n",
    "            return np.nan\n",
    "        else:\n",
    "            return count_f / (count_f + count_m)\n",
    "\n",
    "df_ph['BORROWER_GENDERS_PCT_F'] = df_ph['BORROWER_GENDERS'].astype(str).apply(percent_female)\n",
    "ct = pd.crosstab(df_ph['STATUS_RECODE'], df_ph['BORROWER_GENDERS_PCT_F'])\n",
    "\n",
    "print(f'Chi-Square Test: {stats.chisquare(ct)}\\n')\n",
    "print(f'Fisher-Exact Test: {stats.fisher_exact(ct)}\\n')"
   ]
  },
  {
   "cell_type": "code",
   "execution_count": 19,
   "id": "e8fbe9f5",
   "metadata": {
    "ExecuteTime": {
     "end_time": "2023-12-03T12:45:05.266149Z",
     "start_time": "2023-12-03T12:45:04.231689Z"
    }
   },
   "outputs": [
    {
     "name": "stderr",
     "output_type": "stream",
     "text": [
      "D:\\jdmamangun\\anaconda3\\lib\\site-packages\\seaborn\\_oldcore.py:1498: FutureWarning: is_categorical_dtype is deprecated and will be removed in a future version. Use isinstance(dtype, CategoricalDtype) instead\n",
      "  if pd.api.types.is_categorical_dtype(vector):\n",
      "D:\\jdmamangun\\anaconda3\\lib\\site-packages\\seaborn\\_oldcore.py:1498: FutureWarning: is_categorical_dtype is deprecated and will be removed in a future version. Use isinstance(dtype, CategoricalDtype) instead\n",
      "  if pd.api.types.is_categorical_dtype(vector):\n",
      "D:\\jdmamangun\\anaconda3\\lib\\site-packages\\seaborn\\_oldcore.py:1498: FutureWarning: is_categorical_dtype is deprecated and will be removed in a future version. Use isinstance(dtype, CategoricalDtype) instead\n",
      "  if pd.api.types.is_categorical_dtype(vector):\n"
     ]
    },
    {
     "data": {
      "image/png": "[encoded data removed]",
      "text/plain": [
       "<Figure size 640x480 with 1 Axes>"
      ]
     },
     "metadata": {},
     "output_type": "display_data"
    }
   ],
   "source": [
    "# 17. Philippines Box Plot: STATUS_RECODE vs. LENDER_TERM\n",
    "sns.boxplot(x=df_ph['LENDER_TERM'], y=df_ph['STATUS_RECODE'])\n",
    "plt.show()"
   ]
  },
  {
   "cell_type": "code",
   "execution_count": 20,
   "id": "56ab36bc",
   "metadata": {
    "ExecuteTime": {
     "end_time": "2023-12-03T12:45:09.966791Z",
     "start_time": "2023-12-03T12:45:09.183856Z"
    }
   },
   "outputs": [
    {
     "data": {
      "text/plain": [
       "(6249.577193131856,\n",
       " 0.0,\n",
       " 8.0,\n",
       " array([[170451,   4806],\n",
       "        [301997,    661]], dtype=int64))"
      ]
     },
     "execution_count": 20,
     "metadata": {},
     "output_type": "execute_result"
    }
   ],
   "source": [
    "# 18. Philippines Median Test: STATUS_RECODE vs. LENDER_TERM\n",
    "funded_vals = df_ph[df_ph['STATUS_RECODE'] == 'funded']['LENDER_TERM'].dropna().tolist()\n",
    "not_funded_vals = df_ph[df_ph['STATUS_RECODE'] == 'not funded']['LENDER_TERM'].dropna().tolist()\n",
    "stats.median_test(funded_vals, not_funded_vals)"
   ]
  },
  {
   "cell_type": "code",
   "execution_count": 21,
   "id": "acd2c0d5",
   "metadata": {
    "ExecuteTime": {
     "end_time": "2023-12-03T12:45:12.517033Z",
     "start_time": "2023-12-03T12:45:11.704791Z"
    }
   },
   "outputs": [
    {
     "name": "stderr",
     "output_type": "stream",
     "text": [
      "D:\\jdmamangun\\anaconda3\\lib\\site-packages\\seaborn\\_oldcore.py:1498: FutureWarning: is_categorical_dtype is deprecated and will be removed in a future version. Use isinstance(dtype, CategoricalDtype) instead\n",
      "  if pd.api.types.is_categorical_dtype(vector):\n",
      "D:\\jdmamangun\\anaconda3\\lib\\site-packages\\seaborn\\_oldcore.py:1498: FutureWarning: is_categorical_dtype is deprecated and will be removed in a future version. Use isinstance(dtype, CategoricalDtype) instead\n",
      "  if pd.api.types.is_categorical_dtype(vector):\n",
      "D:\\jdmamangun\\anaconda3\\lib\\site-packages\\seaborn\\_oldcore.py:1498: FutureWarning: is_categorical_dtype is deprecated and will be removed in a future version. Use isinstance(dtype, CategoricalDtype) instead\n",
      "  if pd.api.types.is_categorical_dtype(vector):\n"
     ]
    },
    {
     "data": {
      "image/png": "[encoded data removed]",
      "text/plain": [
       "<Figure size 640x480 with 1 Axes>"
      ]
     },
     "metadata": {},
     "output_type": "display_data"
    }
   ],
   "source": [
    "# 19. Philippines Box Plot: STATUS_RECODE vs. LOAN_AMOUNT\n",
    "sns.boxplot(x=df_ph['LOAN_AMOUNT'], y=df_ph['STATUS_RECODE'])\n",
    "plt.show()"
   ]
  },
  {
   "cell_type": "code",
   "execution_count": 22,
   "id": "008519f2",
   "metadata": {
    "ExecuteTime": {
     "end_time": "2023-12-03T12:45:15.149220Z",
     "start_time": "2023-12-03T12:45:14.414672Z"
    }
   },
   "outputs": [
    {
     "data": {
      "text/plain": [
       "(4563.018780966707,\n",
       " 0.0,\n",
       " 250.0,\n",
       " array([[230992,   5185],\n",
       "        [241456,    282]], dtype=int64))"
      ]
     },
     "execution_count": 22,
     "metadata": {},
     "output_type": "execute_result"
    }
   ],
   "source": [
    "# 20. Philippines Median Test: STATUS_RECODE vs. LOAN_AMOUNT\n",
    "funded_vals = df_ph[df_ph['STATUS_RECODE'] == 'funded']['LOAN_AMOUNT'].dropna().tolist()\n",
    "not_funded_vals = df_ph[df_ph['STATUS_RECODE'] == 'not funded']['LOAN_AMOUNT'].dropna().tolist()\n",
    "stats.median_test(funded_vals, not_funded_vals)"
   ]
  },
  {
   "cell_type": "code",
   "execution_count": 23,
   "id": "1fe81429",
   "metadata": {
    "ExecuteTime": {
     "end_time": "2023-12-03T12:45:17.417220Z",
     "start_time": "2023-12-03T12:45:16.681158Z"
    }
   },
   "outputs": [
    {
     "name": "stderr",
     "output_type": "stream",
     "text": [
      "D:\\jdmamangun\\anaconda3\\lib\\site-packages\\seaborn\\_oldcore.py:1498: FutureWarning: is_categorical_dtype is deprecated and will be removed in a future version. Use isinstance(dtype, CategoricalDtype) instead\n",
      "  if pd.api.types.is_categorical_dtype(vector):\n",
      "D:\\jdmamangun\\anaconda3\\lib\\site-packages\\seaborn\\_oldcore.py:1498: FutureWarning: is_categorical_dtype is deprecated and will be removed in a future version. Use isinstance(dtype, CategoricalDtype) instead\n",
      "  if pd.api.types.is_categorical_dtype(vector):\n",
      "D:\\jdmamangun\\anaconda3\\lib\\site-packages\\seaborn\\_oldcore.py:1498: FutureWarning: is_categorical_dtype is deprecated and will be removed in a future version. Use isinstance(dtype, CategoricalDtype) instead\n",
      "  if pd.api.types.is_categorical_dtype(vector):\n"
     ]
    },
    {
     "data": {
      "image/png": "[encoded data removed]",
      "text/plain": [
       "<Figure size 640x480 with 1 Axes>"
      ]
     },
     "metadata": {},
     "output_type": "display_data"
    }
   ],
   "source": [
    "# 21. Philippines Box Plot: STATUS_RECODE vs. FUNDED_AMOUNT\n",
    "sns.boxplot(x=df_ph['FUNDED_AMOUNT'], y=df_ph['STATUS_RECODE'])\n",
    "plt.show()"
   ]
  },
  {
   "cell_type": "code",
   "execution_count": 24,
   "id": "57da0c3e",
   "metadata": {
    "ExecuteTime": {
     "end_time": "2023-12-03T12:45:19.966081Z",
     "start_time": "2023-12-03T12:45:19.212033Z"
    }
   },
   "outputs": [
    {
     "data": {
      "text/plain": [
       "(156.11583956492728,\n",
       " 7.986455475147886e-36,\n",
       " 250.0,\n",
       " array([[230992,   2208],\n",
       "        [241456,   3259]], dtype=int64))"
      ]
     },
     "execution_count": 24,
     "metadata": {},
     "output_type": "execute_result"
    }
   ],
   "source": [
    "# 22. Philippines Median Test: STATUS_RECODE vs. FUNDED_AMOUNT\n",
    "funded_vals = df_ph[df_ph['STATUS_RECODE'] == 'funded']['FUNDED_AMOUNT'].dropna().tolist()\n",
    "not_funded_vals = df_ph[df_ph['STATUS_RECODE'] == 'not funded']['FUNDED_AMOUNT'].dropna().tolist()\n",
    "stats.median_test(funded_vals, not_funded_vals)"
   ]
  },
  {
   "cell_type": "code",
   "execution_count": 25,
   "id": "78ad49af",
   "metadata": {
    "ExecuteTime": {
     "end_time": "2023-12-03T12:45:22.725372Z",
     "start_time": "2023-12-03T12:45:21.702198Z"
    }
   },
   "outputs": [
    {
     "name": "stderr",
     "output_type": "stream",
     "text": [
      "D:\\jdmamangun\\anaconda3\\lib\\site-packages\\seaborn\\_oldcore.py:1498: FutureWarning: is_categorical_dtype is deprecated and will be removed in a future version. Use isinstance(dtype, CategoricalDtype) instead\n",
      "  if pd.api.types.is_categorical_dtype(vector):\n",
      "D:\\jdmamangun\\anaconda3\\lib\\site-packages\\seaborn\\_oldcore.py:1498: FutureWarning: is_categorical_dtype is deprecated and will be removed in a future version. Use isinstance(dtype, CategoricalDtype) instead\n",
      "  if pd.api.types.is_categorical_dtype(vector):\n",
      "D:\\jdmamangun\\anaconda3\\lib\\site-packages\\seaborn\\_oldcore.py:1498: FutureWarning: is_categorical_dtype is deprecated and will be removed in a future version. Use isinstance(dtype, CategoricalDtype) instead\n",
      "  if pd.api.types.is_categorical_dtype(vector):\n"
     ]
    },
    {
     "data": {
      "image/png": "[encoded data removed]",
      "text/plain": [
       "<Figure size 640x480 with 1 Axes>"
      ]
     },
     "metadata": {},
     "output_type": "display_data"
    }
   ],
   "source": [
    "# 23. Philippines Box Plot: STATUS_RECODE vs. NUM_LENDERS_TOTAL\n",
    "sns.boxplot(x=df_ph['NUM_LENDERS_TOTAL'], y=df_ph['STATUS_RECODE'])\n",
    "plt.show()"
   ]
  },
  {
   "cell_type": "code",
   "execution_count": 26,
   "id": "d0a55faf",
   "metadata": {
    "ExecuteTime": {
     "end_time": "2023-12-03T12:45:25.328702Z",
     "start_time": "2023-12-03T12:45:24.546714Z"
    }
   },
   "outputs": [
    {
     "data": {
      "text/plain": [
       "(0.26454346940734574,\n",
       " 0.6070157723114862,\n",
       " 7.0,\n",
       " array([[224221,   2575],\n",
       "        [248227,   2892]], dtype=int64))"
      ]
     },
     "execution_count": 26,
     "metadata": {},
     "output_type": "execute_result"
    }
   ],
   "source": [
    "# 24. Philippines Median Test: STATUS_RECODE vs. NUM_LENDERS_TOTAL\n",
    "funded_vals = df_ph[df_ph['STATUS_RECODE'] == 'funded']['NUM_LENDERS_TOTAL'].dropna().tolist()\n",
    "not_funded_vals = df_ph[df_ph['STATUS_RECODE'] == 'not funded']['NUM_LENDERS_TOTAL'].dropna().tolist()\n",
    "stats.median_test(funded_vals, not_funded_vals)"
   ]
  },
  {
   "cell_type": "code",
   "execution_count": 27,
   "id": "88f6af38",
   "metadata": {
    "ExecuteTime": {
     "end_time": "2023-12-03T12:48:38.711918Z",
     "start_time": "2023-12-03T12:45:27.004955Z"
    }
   },
   "outputs": [
    {
     "name": "stderr",
     "output_type": "stream",
     "text": [
      "D:\\jdmamangun\\anaconda3\\lib\\site-packages\\seaborn\\_oldcore.py:1498: FutureWarning: is_categorical_dtype is deprecated and will be removed in a future version. Use isinstance(dtype, CategoricalDtype) instead\n",
      "  if pd.api.types.is_categorical_dtype(vector):\n",
      "D:\\jdmamangun\\anaconda3\\lib\\site-packages\\seaborn\\_oldcore.py:1498: FutureWarning: is_categorical_dtype is deprecated and will be removed in a future version. Use isinstance(dtype, CategoricalDtype) instead\n",
      "  if pd.api.types.is_categorical_dtype(vector):\n",
      "D:\\jdmamangun\\anaconda3\\lib\\site-packages\\seaborn\\_oldcore.py:1498: FutureWarning: is_categorical_dtype is deprecated and will be removed in a future version. Use isinstance(dtype, CategoricalDtype) instead\n",
      "  if pd.api.types.is_categorical_dtype(vector):\n"
     ]
    },
    {
     "data": {
      "image/png": "[encoded data removed]",
      "text/plain": [
       "<Figure size 1500x1200 with 1 Axes>"
      ]
     },
     "metadata": {},
     "output_type": "display_data"
    }
   ],
   "source": [
    "# 25. Year-over-Year All Countries Number of Loans\n",
    "date_cols = ['POSTED_TIME', 'RAISED_TIME', 'PLANNED_EXPIRATION_TIME', 'DISBURSE_TIME']\n",
    "df[date_cols] = df[date_cols].apply(pd.to_datetime)\n",
    "df['POSTED_YEAR'] = df['POSTED_TIME'].dt.year\n",
    "df = df[['POSTED_TIME', 'POSTED_YEAR'] + [col for col in df.columns if col not in ['POSTED_TIME', 'POSTED_YEAR']]]\n",
    "yoy_all = df['POSTED_YEAR'].value_counts()\n",
    "\n",
    "plt.figure(figsize=(15, 12))\n",
    "sns.barplot(x=yoy_all.index, y=yoy_all.values, color='orange')  \n",
    "plt.xlabel('Year')\n",
    "plt.ylabel('Loan Count')\n",
    "plt.title('Year-over-Year Loan Counts for All Countries')\n",
    "plt.show()"
   ]
  },
  {
   "cell_type": "code",
   "execution_count": 28,
   "id": "ee26058e",
   "metadata": {
    "ExecuteTime": {
     "end_time": "2023-12-03T12:49:35.230556Z",
     "start_time": "2023-12-03T12:48:51.038599Z"
    }
   },
   "outputs": [
    {
     "name": "stderr",
     "output_type": "stream",
     "text": [
      "D:\\jdmamangun\\anaconda3\\lib\\site-packages\\seaborn\\_oldcore.py:1498: FutureWarning: is_categorical_dtype is deprecated and will be removed in a future version. Use isinstance(dtype, CategoricalDtype) instead\n",
      "  if pd.api.types.is_categorical_dtype(vector):\n",
      "D:\\jdmamangun\\anaconda3\\lib\\site-packages\\seaborn\\_oldcore.py:1498: FutureWarning: is_categorical_dtype is deprecated and will be removed in a future version. Use isinstance(dtype, CategoricalDtype) instead\n",
      "  if pd.api.types.is_categorical_dtype(vector):\n",
      "D:\\jdmamangun\\anaconda3\\lib\\site-packages\\seaborn\\_oldcore.py:1498: FutureWarning: is_categorical_dtype is deprecated and will be removed in a future version. Use isinstance(dtype, CategoricalDtype) instead\n",
      "  if pd.api.types.is_categorical_dtype(vector):\n"
     ]
    },
    {
     "data": {
      "image/png": "[encoded data removed]",
      "text/plain": [
       "<Figure size 1500x1200 with 1 Axes>"
      ]
     },
     "metadata": {},
     "output_type": "display_data"
    }
   ],
   "source": [
    "# 26. Year-over-Year Philippines Number of Loans\n",
    "date_cols = ['POSTED_TIME', 'RAISED_TIME', 'PLANNED_EXPIRATION_TIME', 'DISBURSE_TIME']\n",
    "df_ph[date_cols] = df_ph[date_cols].apply(pd.to_datetime)\n",
    "df_ph['POSTED_YEAR'] = df_ph['POSTED_TIME'].dt.year\n",
    "df_ph = df_ph[['POSTED_TIME', 'POSTED_YEAR'] + [col for col in df_ph.columns if col not in ['POSTED_TIME', 'POSTED_YEAR']]]\n",
    "yoy_all = df_ph['POSTED_YEAR'].value_counts()\n",
    "\n",
    "plt.figure(figsize=(15, 12))\n",
    "sns.barplot(x=yoy_all.index, y=yoy_all.values, color='green')  \n",
    "plt.xlabel('Year')\n",
    "plt.ylabel('Loan Count')\n",
    "plt.title('Year-over-Year Loan Counts for the Philippines')\n",
    "plt.show()"
   ]
  },
  {
   "cell_type": "markdown",
   "id": "ae8de706",
   "metadata": {},
   "source": [
    "---"
   ]
  },
  {
   "cell_type": "markdown",
   "id": "ab1470e4",
   "metadata": {},
   "source": [
    "# Data Cleaning 1"
   ]
  },
  {
   "cell_type": "code",
   "execution_count": 29,
   "id": "09cacedf",
   "metadata": {
    "ExecuteTime": {
     "end_time": "2023-12-03T12:49:40.485172Z",
     "start_time": "2023-12-03T12:49:38.497432Z"
    }
   },
   "outputs": [],
   "source": [
    "# 1. Copy df_all_loans to df\n",
    "df = df_all_loans.copy(deep=True)"
   ]
  },
  {
   "cell_type": "code",
   "execution_count": 30,
   "id": "7312c903",
   "metadata": {
    "ExecuteTime": {
     "end_time": "2023-12-03T12:49:42.129337Z",
     "start_time": "2023-12-03T12:49:42.112308Z"
    }
   },
   "outputs": [],
   "source": [
    "# 2. Convert column names to lowercase\n",
    "df.columns = df.columns.str.lower()"
   ]
  },
  {
   "cell_type": "code",
   "execution_count": 31,
   "id": "878f7c7f",
   "metadata": {
    "ExecuteTime": {
     "end_time": "2023-12-03T12:50:04.303554Z",
     "start_time": "2023-12-03T12:49:44.154693Z"
    }
   },
   "outputs": [
    {
     "name": "stdout",
     "output_type": "stream",
     "text": [
      "Number of rows where loan_name contains 'group': 288235\n",
      "Number of rows where loan_name doesn't contain 'group': 1899584\n"
     ]
    }
   ],
   "source": [
    "# 3. Add the word \"Group\" to those loan_name that is a group but is not indicated as a group \n",
    "#    and check distribution of group and non-group loans\n",
    "df_multiple_names_indices = df_multiple_names.index.tolist()\n",
    "selected_rows = df.loc[df_multiple_names_indices]\n",
    "condition = selected_rows['loan_name'].str.contains('&|and', case=False, na=False)\n",
    "selected_rows.loc[condition, 'loan_name'] = selected_rows.loc[condition, 'loan_name'] + \" Group\"\n",
    "df.update(selected_rows)\n",
    "selected_rows.loc[433067, 'loan_name'] = selected_rows.loc[433067, 'loan_name'] + \" Group\"\n",
    "df.update(selected_rows)\n",
    "\n",
    "df_group_count = df[df['loan_name'].str.lower().str.contains('group', na=False)].shape[0]\n",
    "df_no_group_count = df[~df['loan_name'].str.lower().str.contains('group', na=False)].shape[0]\n",
    "\n",
    "print(f\"Number of rows where loan_name contains 'group': {df_group_count}\")\n",
    "print(f\"Number of rows where loan_name doesn't contain 'group': {df_no_group_count}\")"
   ]
  },
  {
   "cell_type": "code",
   "execution_count": 32,
   "id": "2ebffa4c",
   "metadata": {
    "ExecuteTime": {
     "end_time": "2023-12-03T12:50:08.023353Z",
     "start_time": "2023-12-03T12:50:08.013316Z"
    }
   },
   "outputs": [],
   "source": [
    "# 4. Rename columns\n",
    "column_rename_mapping = {\n",
    "    'lender_term': 'repayment_term',\n",
    "    'num_lenders_total': 'num_lenders'\n",
    "}\n",
    "df.rename(columns=column_rename_mapping, inplace=True)"
   ]
  },
  {
   "cell_type": "code",
   "execution_count": 33,
   "id": "2d96e616",
   "metadata": {
    "ExecuteTime": {
     "end_time": "2023-12-03T12:53:22.817209Z",
     "start_time": "2023-12-03T12:50:12.720130Z"
    }
   },
   "outputs": [],
   "source": [
    "# 5. Convert to appropriate dtypes\n",
    "df['loan_id'] = df['loan_id'].astype(str)\n",
    "df['partner_id'] = df['partner_id'].astype(str)\n",
    "df['posted_time'] = pd.to_datetime(df['posted_time'])\n",
    "df['planned_expiration_time'] = pd.to_datetime(df['planned_expiration_time'])\n",
    "df['disburse_time'] = pd.to_datetime(df['disburse_time'])\n",
    "df['raised_time'] = pd.to_datetime(df['raised_time'])"
   ]
  },
  {
   "cell_type": "code",
   "execution_count": 34,
   "id": "f29a69ca",
   "metadata": {
    "ExecuteTime": {
     "end_time": "2023-12-03T12:55:13.900381Z",
     "start_time": "2023-12-03T12:55:12.099124Z"
    }
   },
   "outputs": [],
   "source": [
    "# 6. Cut the dataset by selecting only profiles posted within the year range 2014 to 2021\n",
    "df['posted_year'] = df['posted_time'].dt.year\n",
    "df = df[(df['posted_year'] >= 2014) & (df['posted_year'] <= 2021)]"
   ]
  },
  {
   "cell_type": "markdown",
   "id": "6c6fabbf",
   "metadata": {},
   "source": [
    "---"
   ]
  },
  {
   "cell_type": "markdown",
   "id": "b6d3b057",
   "metadata": {},
   "source": [
    "# Feature Engineering"
   ]
  },
  {
   "cell_type": "code",
   "execution_count": 35,
   "id": "32f56d1b",
   "metadata": {
    "ExecuteTime": {
     "end_time": "2023-12-03T12:55:47.709007Z",
     "start_time": "2023-12-03T12:55:40.711253Z"
    }
   },
   "outputs": [],
   "source": [
    "# 1. Convert loan_name to binary...group loans are the minority/positive class\n",
    "df_group = df[df['loan_name'].str.lower().str.contains('group', na=False)]\n",
    "df_no_group = df[~df['loan_name'].str.lower().str.contains('group', na=False)]\n",
    "df_group_indices = df_group.index.tolist()\n",
    "df_no_group_indices = df_no_group.index.tolist()\n",
    "df.loc[df_group_indices, 'group_loan'] = 1\n",
    "df.loc[df_no_group_indices, 'group_loan'] = 0"
   ]
  },
  {
   "cell_type": "code",
   "execution_count": 36,
   "id": "3c2c535d",
   "metadata": {
    "ExecuteTime": {
     "end_time": "2023-12-03T12:55:51.285140Z",
     "start_time": "2023-12-03T12:55:50.884303Z"
    }
   },
   "outputs": [],
   "source": [
    "# 2. Bin loan_amount in quartiles\n",
    "df['loan_amount_bin'] = pd.qcut(df['loan_amount'], q=4)"
   ]
  },
  {
   "cell_type": "code",
   "execution_count": 37,
   "id": "0628b621",
   "metadata": {
    "ExecuteTime": {
     "end_time": "2023-12-03T12:55:54.005392Z",
     "start_time": "2023-12-03T12:55:52.861067Z"
    }
   },
   "outputs": [],
   "source": [
    "# 3. Convert status to binary...expired cases are the minority/positive class\n",
    "df['is_expired'] = df['status'].replace({'expired': 1, \n",
    "                                         'refunded': 1, \n",
    "                                         'fundRaising': 1,\n",
    "                                         'funded': 0})"
   ]
  },
  {
   "cell_type": "code",
   "execution_count": 38,
   "id": "3ba3ac3d",
   "metadata": {
    "ExecuteTime": {
     "end_time": "2023-12-03T12:55:55.852299Z",
     "start_time": "2023-12-03T12:55:55.809035Z"
    }
   },
   "outputs": [],
   "source": [
    "# 4. Convert image_id & video_id to binary\n",
    "df['with_image'] = df['image_id'].notna().astype(int)\n",
    "df['with_video'] = df['video_id'].notna().astype(int)"
   ]
  },
  {
   "cell_type": "code",
   "execution_count": 39,
   "id": "01bd6519",
   "metadata": {
    "ExecuteTime": {
     "end_time": "2023-12-03T12:55:59.699113Z",
     "start_time": "2023-12-03T12:55:57.858066Z"
    }
   },
   "outputs": [],
   "source": [
    "# 5. Convert sector_name to binary...personal use are the minority/positive class\n",
    "personal_use = ['Construction', 'Education', 'Entertainment',\n",
    "                'Health', 'Housing', 'Personal Use']\n",
    "\n",
    "business = ['Arts', 'Agriculture',\n",
    "            'Clothing', 'Food', 'Manufacturing',\n",
    "            'Retail', 'Services', 'Transportation', 'Wholesale']\n",
    "\n",
    "def assign_personal_use(sector_name):\n",
    "    if sector_name in personal_use:\n",
    "        return 1\n",
    "    elif sector_name in business:\n",
    "        return 0\n",
    "    else:\n",
    "        return None  # or any other value for cases not covered\n",
    "\n",
    "df['personal_use'] = df['sector_name'].apply(assign_personal_use)"
   ]
  },
  {
   "cell_type": "code",
   "execution_count": 40,
   "id": "f2d94729",
   "metadata": {
    "ExecuteTime": {
     "end_time": "2023-12-03T12:56:11.082110Z",
     "start_time": "2023-12-03T12:56:10.987179Z"
    }
   },
   "outputs": [],
   "source": [
    "# 6. Convert partner_covers_currency_loss to binary\n",
    "df['partner_covers_currency_loss'] = df['currency_exchange_coverage_rate'].replace({np.nan: 0, \n",
    "                                                                                    0.0: 0, \n",
    "                                                                                    0.1: 1,\n",
    "                                                                                    0.2: 1})"
   ]
  },
  {
   "cell_type": "code",
   "execution_count": 41,
   "id": "3488b2e4",
   "metadata": {
    "ExecuteTime": {
     "end_time": "2023-12-03T12:56:16.106095Z",
     "start_time": "2023-12-03T12:56:13.943240Z"
    }
   },
   "outputs": [],
   "source": [
    "# 7. Bin repayment_term in two bins then convert it to binary...16 mos and above cases are the minority/positive class\n",
    "bin_edges = [0, 15, np.inf]\n",
    "bin_labels = ['0-15', '16 and above']\n",
    "\n",
    "df['repayment_term'].replace([np.inf, -np.inf], np.nan, inplace=True)\n",
    "\n",
    "df['repayment_term_bin'] = pd.cut(df['repayment_term'], bins=bin_edges, labels=bin_labels, right=True)\n",
    "df['repayment_term_bin'] = df['repayment_term_bin'].astype(str)\n",
    "df['repayment_term_16_mos_and_above'] = df['repayment_term_bin'].replace({'16 and above': 1,\n",
    "                                                                          '0-15': 0})"
   ]
  },
  {
   "cell_type": "code",
   "execution_count": 42,
   "id": "653fc2e1",
   "metadata": {
    "ExecuteTime": {
     "end_time": "2023-12-03T12:56:37.832218Z",
     "start_time": "2023-12-03T12:56:37.425282Z"
    }
   },
   "outputs": [
    {
     "name": "stdout",
     "output_type": "stream",
     "text": [
      "Number of negative values in 'num_days_to_fully_fund': 0\n"
     ]
    }
   ],
   "source": [
    "# 8.1 Determine the number of days it takes for a profile to get fully-funded,\n",
    "#    this uses the timedelta approach and avoids potential issues with time zones\n",
    "mask_fully_funded_not_expired = (df['is_expired'] == 0) & (df['raised_time'] > df['posted_time'])\n",
    "\n",
    "df.loc[mask_fully_funded_not_expired, 'num_days_to_fully_fund'] = (\n",
    "    df['raised_time'] - df['posted_time']\n",
    ").dt.days\n",
    "\n",
    "df.loc[df['is_expired'] == 1, 'num_days_to_fully_fund'] = np.nan\n",
    "\n",
    "negative_days_count = df[df['num_days_to_fully_fund'] < 0].shape[0]\n",
    "print(f\"Number of negative values in 'num_days_to_fully_fund': {negative_days_count}\")"
   ]
  },
  {
   "cell_type": "code",
   "execution_count": 43,
   "id": "0a3d4c81",
   "metadata": {
    "ExecuteTime": {
     "end_time": "2023-12-03T12:56:40.536316Z",
     "start_time": "2023-12-03T12:56:39.906068Z"
    }
   },
   "outputs": [
    {
     "name": "stderr",
     "output_type": "stream",
     "text": [
      "D:\\jdmamangun\\anaconda3\\lib\\site-packages\\seaborn\\_oldcore.py:1498: FutureWarning: is_categorical_dtype is deprecated and will be removed in a future version. Use isinstance(dtype, CategoricalDtype) instead\n",
      "  if pd.api.types.is_categorical_dtype(vector):\n",
      "D:\\jdmamangun\\anaconda3\\lib\\site-packages\\seaborn\\categorical.py:641: FutureWarning: The default of observed=False is deprecated and will be changed to True in a future version of pandas. Pass observed=False to retain current behavior or observed=True to adopt the future default and silence this warning.\n",
      "  grouped_vals = vals.groupby(grouper)\n"
     ]
    },
    {
     "data": {
      "text/plain": [
       "<Axes: xlabel='num_days_to_fully_fund_bin', ylabel='count'>"
      ]
     },
     "execution_count": 43,
     "metadata": {},
     "output_type": "execute_result"
    },
    {
     "data": {
      "image/png": "[encoded data removed]",
      "text/plain": [
       "<Figure size 640x480 with 1 Axes>"
      ]
     },
     "metadata": {},
     "output_type": "display_data"
    }
   ],
   "source": [
    "# 8.2 Create an initial binning to see the distribution of num_days_to_fully_fund\n",
    "bin_edges = [0, 10, 20, 30, np.inf]\n",
    "bin_labels = ['0-10', '11-20', '21-30', '31 and above']\n",
    "\n",
    "df['num_days_to_fully_fund'].replace([np.inf, -np.inf], np.nan, inplace=True)\n",
    "\n",
    "df['num_days_to_fully_fund_bin'] = pd.cut(df['num_days_to_fully_fund'], bins=bin_edges, labels=bin_labels, right=True)\n",
    "sns.countplot(data=df, x='num_days_to_fully_fund_bin', palette='viridis')"
   ]
  },
  {
   "cell_type": "code",
   "execution_count": 44,
   "id": "63c0a19c",
   "metadata": {
    "ExecuteTime": {
     "end_time": "2023-12-03T12:56:43.677066Z",
     "start_time": "2023-12-03T12:56:42.643381Z"
    }
   },
   "outputs": [
    {
     "name": "stderr",
     "output_type": "stream",
     "text": [
      "D:\\jdmamangun\\anaconda3\\lib\\site-packages\\seaborn\\_oldcore.py:1498: FutureWarning: is_categorical_dtype is deprecated and will be removed in a future version. Use isinstance(dtype, CategoricalDtype) instead\n",
      "  if pd.api.types.is_categorical_dtype(vector):\n",
      "D:\\jdmamangun\\anaconda3\\lib\\site-packages\\seaborn\\categorical.py:641: FutureWarning: The default of observed=False is deprecated and will be changed to True in a future version of pandas. Pass observed=False to retain current behavior or observed=True to adopt the future default and silence this warning.\n",
      "  grouped_vals = vals.groupby(grouper)\n"
     ]
    },
    {
     "data": {
      "image/png": "[encoded data removed]",
      "text/plain": [
       "<Figure size 640x480 with 1 Axes>"
      ]
     },
     "metadata": {},
     "output_type": "display_data"
    }
   ],
   "source": [
    "# 8.3 Create a final binning for num_days_to_fully_fund and convert it to binary...\n",
    "#     14 days and above cases are the minority/positive class\n",
    "bin_edges = [0, 13, np.inf]\n",
    "bin_labels = ['0-13', '14 and above']\n",
    "\n",
    "df['num_days_to_fully_fund'].replace([np.inf, -np.inf], np.nan, inplace=True)\n",
    "\n",
    "df['num_days_to_fully_fund_bin'] = pd.cut(df['num_days_to_fully_fund'], bins=bin_edges, labels=bin_labels, right=True)\n",
    "sns.countplot(data=df, x='num_days_to_fully_fund_bin', palette='viridis')\n",
    "df['num_days_to_fully_fund_bin'] = df['num_days_to_fully_fund_bin'].astype(str)\n",
    "df['funded_14_days_and_above'] = df['num_days_to_fully_fund_bin'].replace({'14 and above': 1,\n",
    "                                                                           '0-13': 0})\n",
    "# To Clarify: 0 to 13 days = within 2 weeks\n",
    "#           : 14 days and above = after 2 weeks"
   ]
  },
  {
   "cell_type": "markdown",
   "id": "26db8a81",
   "metadata": {},
   "source": [
    "---"
   ]
  },
  {
   "cell_type": "markdown",
   "id": "304ba359",
   "metadata": {},
   "source": [
    "# Data Cleaning 2"
   ]
  },
  {
   "cell_type": "code",
   "execution_count": 45,
   "id": "3fa34151",
   "metadata": {
    "ExecuteTime": {
     "end_time": "2023-12-03T12:56:49.597528Z",
     "start_time": "2023-12-03T12:56:47.798196Z"
    }
   },
   "outputs": [],
   "source": [
    "# 1. Convert to appropriate dtypes\n",
    "df['group_loan'] = df['group_loan'].astype('int64')\n",
    "df['is_expired'] = df['is_expired'].astype('int64')\n",
    "df['with_image'] = df['with_image'].astype('int64')\n",
    "df['with_video'] = df['with_video'].astype('int64')\n",
    "df['personal_use'] = df['personal_use'].astype('int64')\n",
    "df['partner_covers_currency_loss'] = df['partner_covers_currency_loss'].astype('int64')\n",
    "df['repayment_term_16_mos_and_above'] = df['repayment_term_16_mos_and_above'].astype('int64')\n",
    "df['funded_14_days_and_above'] = pd.to_numeric(df['funded_14_days_and_above'], errors='coerce').astype('Int64')"
   ]
  },
  {
   "cell_type": "code",
   "execution_count": 46,
   "id": "cba066cc",
   "metadata": {
    "ExecuteTime": {
     "end_time": "2023-12-03T12:56:52.014375Z",
     "start_time": "2023-12-03T12:56:51.348315Z"
    }
   },
   "outputs": [],
   "source": [
    "# 2. Drop columns\n",
    "df = df.drop(columns=['loan_name', 'funded_amount', 'status', 'image_id', 'video_id', 'activity_name', \n",
    "                      'country_code', 'town_name', \n",
    "                      'currency_policy', 'currency_exchange_coverage_rate', 'currency', \n",
    "                      'repayment_term', 'repayment_term_bin', \n",
    "                      'posted_year', 'planned_expiration_time', 'disburse_time', 'raised_time',\n",
    "                      'num_lenders', 'num_journal_entries', 'num_bulk_entries', 'tags',\n",
    "                      'borrower_names', 'borrower_genders', 'borrower_pictured', 'distribution_model',\n",
    "                      'num_days_to_fully_fund_bin'])"
   ]
  },
  {
   "cell_type": "code",
   "execution_count": 47,
   "id": "889188b7",
   "metadata": {
    "ExecuteTime": {
     "end_time": "2023-12-03T12:56:54.271230Z",
     "start_time": "2023-12-03T12:56:53.904974Z"
    }
   },
   "outputs": [],
   "source": [
    "# 3. Rearrange columns\n",
    "desired_column_order = [\n",
    "    'loan_id', 'group_loan', 'with_image', 'with_video', 'posted_time', 'is_expired', \n",
    "    'loan_amount', 'loan_amount_bin', 'personal_use', 'sector_name', 'loan_use',\n",
    "    'num_days_to_fully_fund', 'funded_14_days_and_above', \n",
    "    'partner_id', 'repayment_term_16_mos_and_above', 'repayment_interval', 'partner_covers_currency_loss', \n",
    "    'country_name'\n",
    "]\n",
    "df = df[desired_column_order]"
   ]
  },
  {
   "cell_type": "markdown",
   "id": "3df4d9d6",
   "metadata": {},
   "source": [
    "---"
   ]
  },
  {
   "cell_type": "markdown",
   "id": "e0534e8b",
   "metadata": {},
   "source": [
    "# Save CSVs"
   ]
  },
  {
   "cell_type": "code",
   "execution_count": 48,
   "id": "898a9eb3",
   "metadata": {
    "ExecuteTime": {
     "end_time": "2023-12-03T12:57:45.525032Z",
     "start_time": "2023-12-03T12:56:56.412901Z"
    }
   },
   "outputs": [],
   "source": [
    "# 1. Copy df to df_all_loans_cleaned and save to csv\n",
    "df_all_loans_cleaned = df.copy(deep=True)\n",
    "df_all_loans_cleaned.to_csv('Dataset/all_loans_cleaned.csv', index=False)"
   ]
  },
  {
   "cell_type": "code",
   "execution_count": 49,
   "id": "a675e422",
   "metadata": {
    "ExecuteTime": {
     "end_time": "2023-12-03T12:58:11.342123Z",
     "start_time": "2023-12-03T12:57:55.158594Z"
    }
   },
   "outputs": [],
   "source": [
    "# 2. Copy df to df_sea_loans_cleaned and save to csv\n",
    "df_sea_loans_cleaned = df.copy(deep=True)\n",
    "sea_countries = ['Cambodia', 'Indonesia', \"Lao People's Democratic Republic\", 'Myanmar (Burma)',\n",
    "                 'Philippines', 'Thailand', 'Timor-Leste', 'Vietnam']\n",
    "df_sea_loans_cleaned = df_sea_loans_cleaned[df_sea_loans_cleaned['country_name'].isin(sea_countries)]\n",
    "df_sea_loans_cleaned.to_csv('Dataset/sea_loans_cleaned.csv', index=False)"
   ]
  },
  {
   "cell_type": "code",
   "execution_count": 50,
   "id": "73e2587e",
   "metadata": {
    "ExecuteTime": {
     "end_time": "2023-12-03T12:58:25.165454Z",
     "start_time": "2023-12-03T12:58:13.298614Z"
    }
   },
   "outputs": [],
   "source": [
    "# 3. Copy df to df_ph_loans_cleaned and save to csv\n",
    "df_ph_loans_cleaned = df.copy(deep=True)\n",
    "df_ph_loans_cleaned = df_ph_loans_cleaned[df_ph_loans_cleaned['country_name']=='Philippines']\n",
    "df_ph_loans_cleaned.to_csv('Dataset/ph_loans_cleaned.csv', index=False)"
   ]
  }
 ],
 "metadata": {
  "kernelspec": {
   "display_name": "Python 3 (ipykernel)",
   "language": "python",
   "name": "python3"
  },
  "language_info": {
   "codemirror_mode": {
    "name": "ipython",
    "version": 3
   },
   "file_extension": ".py",
   "mimetype": "text/x-python",
   "name": "python",
   "nbconvert_exporter": "python",
   "pygments_lexer": "ipython3",
   "version": "3.10.9"
  },
  "toc": {
   "base_numbering": 1,
   "nav_menu": {},
   "number_sections": true,
   "sideBar": true,
   "skip_h1_title": false,
   "title_cell": "Table of Contents",
   "title_sidebar": "Contents",
   "toc_cell": false,
   "toc_position": {
    "height": "calc(100% - 180px)",
    "left": "10px",
    "top": "150px",
    "width": "401.375px"
   },
   "toc_section_display": true,
   "toc_window_display": true
  },
  "varInspector": {
   "cols": {
    "lenName": 16,
    "lenType": 16,
    "lenVar": 40
   },
   "kernels_config": {
    "python": {
     "delete_cmd_postfix": "",
     "delete_cmd_prefix": "del ",
     "library": "var_list.py",
     "varRefreshCmd": "print(var_dic_list())"
    },
    "r": {
     "delete_cmd_postfix": ") ",
     "delete_cmd_prefix": "rm(",
     "library": "var_list.r",
     "varRefreshCmd": "cat(var_dic_list()) "
    }
   },
   "types_to_exclude": [
    "module",
    "function",
    "builtin_function_or_method",
    "instance",
    "_Feature"
   ],
   "window_display": false
  }
 },
 "nbformat": 4,
 "nbformat_minor": 5
}
